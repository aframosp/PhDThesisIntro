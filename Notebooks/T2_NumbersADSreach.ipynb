{
 "cells": [
  {
   "cell_type": "markdown",
   "metadata": {},
   "source": [
    "# Table for the ADS reach\n",
    "In this notebook we read the information from the files that we can retrieve from ADS about the numbers of reads that a given Bibcode has. We retrieved the files manually but we put the information in the Data folder. First, we import the Python packages."
   ]
  },
  {
   "cell_type": "code",
   "execution_count": 1,
   "metadata": {
    "ExecuteTime": {
     "end_time": "2022-04-06T13:57:31.245735Z",
     "start_time": "2022-04-06T13:57:30.503113Z"
    }
   },
   "outputs": [],
   "source": [
    "import numpy as np\n",
    "from astropy.table import Table"
   ]
  },
  {
   "cell_type": "markdown",
   "metadata": {
    "ExecuteTime": {
     "end_time": "2022-03-31T13:07:54.970202Z",
     "start_time": "2022-03-31T13:07:53.548095Z"
    }
   },
   "source": [
    "We create a dictionary with the Bibcodes for each of the radiation transfer software (code) that we listed."
   ]
  },
  {
   "cell_type": "code",
   "execution_count": 2,
   "metadata": {
    "ExecuteTime": {
     "end_time": "2022-04-06T13:57:31.249897Z",
     "start_time": "2022-04-06T13:57:31.246865Z"
    }
   },
   "outputs": [],
   "source": [
    "software = {'ART2': ['2008ApJ...678...41L', '2012MNRAS.424..884Y', '2020MNRAS.494.1919L'],\n",
    "            'Cloudy': ['1998PASP..110..761F', '2013RMxAA..49..137F', '2017RMxAA..53..385F'],\n",
    "            'DESPOTIC': ['2014MNRAS.437.1662K'],\n",
    "            'LIME': ['2010A&A...523A..25B'],\n",
    "            'LOC': ['2020A&A...644A.151J'],\n",
    "            'MAIHEM': ['2015ApJ...801..107G', '2016ApJ...818..198G', '2017ApJ...849..132G'],\n",
    "            'MOLLIE': ['1990ApJ...355..190K', '2004ApJ...613..355K', '2010ApJ...716.1315K'],\n",
    "            # One in prep Reissl+ for POLARIS\n",
    "            'POLARIS': ['2016A&A...593A..87R', '2019ApJ...885...15R'],\n",
    "            'RADEX': ['2007A&A...468..627V'],\n",
    "            'RADMC-3D': ['2012ascl.soft02015D'],\n",
    "            'RATRAN': ['2000A&A...362..697H'],\n",
    "            'SKIRT': ['2003MNRAS.343.1081B', '2015A&C.....9...20C', '2020A&C....3100381C']\n",
    "            }"
   ]
  },
  {
   "cell_type": "markdown",
   "metadata": {},
   "source": [
    "##### Information for the table"
   ]
  },
  {
   "cell_type": "code",
   "execution_count": 3,
   "metadata": {
    "ExecuteTime": {
     "end_time": "2022-04-06T13:57:31.286998Z",
     "start_time": "2022-04-06T13:57:31.251440Z"
    }
   },
   "outputs": [
    {
     "name": "stdout",
     "output_type": "stream",
     "text": [
      "ART2\n",
      "    28.4\n",
      "    50.2\n",
      "    52.6\n",
      "Cloudy\n",
      "    339.2\n",
      "    545.8\n",
      "    835.0\n",
      "DESPOTIC\n",
      "    106.8\n",
      "LIME\n",
      "    174.6\n",
      "LOC\n",
      "    22.2\n",
      "MAIHEM\n",
      "    39.6\n",
      "    43.6\n",
      "    49.0\n",
      "MOLLIE\n",
      "    24.4\n",
      "    26.6\n",
      "    58.4\n",
      "POLARIS\n",
      "    149.6\n",
      "    59.8\n",
      "RADEX\n",
      "    340.8\n",
      "RADMC-3D\n",
      "    333.0\n",
      "RATRAN\n",
      "    112.4\n",
      "SKIRT\n",
      "    37.6\n",
      "    99.2\n",
      "    54.2\n"
     ]
    }
   ],
   "source": [
    "for model in software:\n",
    "    print(model)\n",
    "    references = software[model]\n",
    "    for ref in references:\n",
    "        reads = Table.read('../Data/MetricsADS/'+ref+'.csv', format='ascii.csv')\n",
    "        # Number of reads in per year in the last 5 years\n",
    "        years = np.where(np.logical_and(\n",
    "            reads['Year'] >= 2017, reads['Year'] <= 2021))\n",
    "        average = np.mean(reads[years]['Total'])\n",
    "        print('   ', average)"
   ]
  },
  {
   "cell_type": "markdown",
   "metadata": {
    "ExecuteTime": {
     "end_time": "2022-03-31T13:56:18.808114Z",
     "start_time": "2022-03-31T13:56:18.802237Z"
    }
   },
   "source": [
    "##### Notebook information"
   ]
  },
  {
   "cell_type": "code",
   "execution_count": 4,
   "metadata": {
    "ExecuteTime": {
     "end_time": "2022-04-06T13:57:31.316303Z",
     "start_time": "2022-04-06T13:57:31.288109Z"
    }
   },
   "outputs": [
    {
     "name": "stdout",
     "output_type": "stream",
     "text": [
      "Author: Andres Ramos\n",
      "\n",
      "Python implementation: CPython\n",
      "Python version       : 3.8.3\n",
      "IPython version      : 7.16.1\n",
      "\n",
      "Compiler    : GCC 7.3.0\n",
      "OS          : Linux\n",
      "Release     : 3.10.0-1160.59.1.el7.x86_64\n",
      "Machine     : x86_64\n",
      "Processor   : x86_64\n",
      "CPU cores   : 8\n",
      "Architecture: 64bit\n",
      "\n",
      "Specific Python packages\n",
      "json    : 2.0.9\n",
      "numpy   : 1.22.1\n",
      "autopep8: 1.5.7\n",
      "\n",
      "Watermark: 2.2.0\n",
      "\n"
     ]
    }
   ],
   "source": [
    "%load_ext watermark\n",
    "%watermark -a \"Andres Ramos\" -d -v -m\n",
    "print('Specific Python packages')\n",
    "%watermark -iv -w"
   ]
  }
 ],
 "metadata": {
  "hide_input": false,
  "kernelspec": {
   "display_name": "Python 3",
   "language": "python",
   "name": "python3"
  },
  "language_info": {
   "codemirror_mode": {
    "name": "ipython",
    "version": 3
   },
   "file_extension": ".py",
   "mimetype": "text/x-python",
   "name": "python",
   "nbconvert_exporter": "python",
   "pygments_lexer": "ipython3",
   "version": "3.8.3"
  },
  "toc": {
   "base_numbering": "",
   "nav_menu": {},
   "number_sections": false,
   "sideBar": true,
   "skip_h1_title": false,
   "title_cell": "Table of Contents",
   "title_sidebar": "Contents",
   "toc_cell": false,
   "toc_position": {},
   "toc_section_display": true,
   "toc_window_display": true
  },
  "varInspector": {
   "cols": {
    "lenName": 16,
    "lenType": 16,
    "lenVar": 40
   },
   "kernels_config": {
    "python": {
     "delete_cmd_postfix": "",
     "delete_cmd_prefix": "del ",
     "library": "var_list.py",
     "varRefreshCmd": "print(var_dic_list())"
    },
    "r": {
     "delete_cmd_postfix": ") ",
     "delete_cmd_prefix": "rm(",
     "library": "var_list.r",
     "varRefreshCmd": "cat(var_dic_list()) "
    }
   },
   "types_to_exclude": [
    "module",
    "function",
    "builtin_function_or_method",
    "instance",
    "_Feature"
   ],
   "window_display": false
  }
 },
 "nbformat": 4,
 "nbformat_minor": 4
}
